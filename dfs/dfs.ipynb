{
 "cells": [
  {
   "cell_type": "markdown",
   "metadata": {},
   "source": [
    "<ul>As an example of a run:  </ul>\n",
    "\n",
    "<ul>Please supply the weighted graph to be searched, as an adjacency list:</ul>\n",
    "\n",
    "\n",
    "<table cellspacing=\"100\">\n",
    "    <tr>\n",
    "      <td class=\"top-and-right\"></td>\n",
    "      <td>a</td> \n",
    "      <td>b</td>\n",
    "      <td>8</td>\n",
    "      <td>c</td>\n",
    "      <td>4</td>\n",
    "      <td class=\"top-and-right\"></td>\n",
    "    </tr>\n",
    "    <tr>\n",
    "      <td class=\"left\"></td>\n",
    "      <td>b</td>\n",
    "      <td>c</td>\n",
    "      <td>2</td>\n",
    "      <td>d</td>\n",
    "      <td>7</td>\n",
    "      <td class=\"right\"></td>\n",
    "    </tr>\n",
    "    <tr class=\"bottom row\">\n",
    "      <td class=\"bottom-and-left\"></td>\n",
    "      <td>c</td>\n",
    "      <td>b</td>\n",
    "      <td>2</td>\n",
    "      <td>d</td>\n",
    "      <td>1</td>\n",
    "      <td class=\"bottom-and-left\"></td>\n",
    "    </tr>\n",
    "      <tr class=\"bottom row\">\n",
    "      <td class=\"bottom-and-left\"></td>\n",
    "      <td>d</td>\n",
    "      <td>b</td>\n",
    "      <td>1</td>\n",
    "      <td>c</td>\n",
    "      <td>5</td>\n",
    "      <td>g</td>\n",
    "      <td>3</td>\n",
    "      <td class=\"bottom-and-left\"></td>\n",
    "    </tr>\n",
    "    <tr class=\"2ndbottom row\">\n",
    "      <td class=\"bottom-and-left\"></td>\n",
    "      <td>g</td>\n",
    "      <td>c</td>\n",
    "      <td>4</td>\n",
    "      <td>d</td>\n",
    "      <td>3</td>\n",
    "      <td class=\"bottom-and-left\"></td>\n",
    "    </tr>\n",
    "  </table>\n",
    "\n",
    "\n",
    "<ul>which node is the source?</ul>\n",
    "<ul>a</ul>\n",
    "<ul>Which node is the goal?</ul>\n",
    "<ul>g</ul>\n",
    "<ul>the path from a to g, found by dfs is:</ul>\n",
    "<ul>a b c d g</ul>\n",
    "<ul>the path from a to g, found by Hill Climbing is:</ul>\n",
    "<ul>a c d g</ul>"
   ]
  },
  {
   "cell_type": "code",
   "execution_count": 4,
   "metadata": {},
   "outputs": [],
   "source": [
    "weighted_hc = { 'a': ['a','b',8,'c',4],\n",
    "                  'b': ['c',2,'d',7],\n",
    "                  'c': ['b',2,'d',1],\n",
    "                  'd': ['b',1,'c',5,'g',3],\n",
    "                  'g': ['c',4,'d',3]}"
   ]
  },
  {
   "cell_type": "code",
   "execution_count": 16,
   "metadata": {},
   "outputs": [],
   "source": [
    "class Graph():\n",
    "    def __init__(self,graph):\n",
    "        self._graph = graph\n",
    "        self._S = []\n",
    "        self._path = []\n",
    "        self._visited = [] \n",
    "        self._vertex =\n",
    "    \n",
    "    def DFS(self,vertex,src,goal):\n",
    "\n",
    "        self._S.append(self._vertex)\n",
    "\n",
    "        while S:\n",
    "            self._vertex = self._S.pop()\n",
    "\n",
    "        return path \n",
    "\n",
    "    def hill_climb(self,vertex,src,goal):\n",
    "        return path\n",
    "\n",
    "    def run(self):\n",
    "\n",
    "        print(\"What is the source node\")    \n",
    "        src = input()\n",
    "\n",
    "        print(\"What is the goal\")\n",
    "        goal = input()\n",
    "\n",
    "        print(f\"The path from {src} to {goal} found by DFS is: {self.DFS(self._graph,src,goal)}\")\n",
    "\n",
    "        print(f\"The path from {src} to {goal} found by Hill climbing is: {self.hill_climb(self._graph,src,goal)}\")"
   ]
  },
  {
   "cell_type": "code",
   "execution_count": 26,
   "metadata": {},
   "outputs": [],
   "source": [
    "dfs_list = { 'a': set(['a','b','c']),\n",
    "                  'b': set(['c','d']),\n",
    "                  'c': set(['b','d']),\n",
    "                  'd': set(['b','c','g']),\n",
    "                  'g': set(['c','d'])}"
   ]
  },
  {
   "cell_type": "code",
   "execution_count": 27,
   "metadata": {},
   "outputs": [],
   "source": [
    "def dfs(graph, start, goal):\n",
    "    stack = [(start, [start])]\n",
    "    while stack:\n",
    "        (vertex, path) = stack.pop()\n",
    "        for next in graph[vertex] - set(path):\n",
    "            if next == goal:\n",
    "                yield path + [next]\n",
    "                stack = []\n",
    "            else:\n",
    "                stack.append((next, path + [next]))"
   ]
  },
  {
   "cell_type": "code",
   "execution_count": 29,
   "metadata": {},
   "outputs": [
    {
     "name": "stdout",
     "output_type": "stream",
     "text": [
      "What is the source node\n",
      "a\n",
      "What is the goal\n",
      "g\n",
      "The path from a to g found by DFS is: ['a', 'c', 'd', 'g']\n"
     ]
    }
   ],
   "source": [
    "    print(\"What is the source node\")    \n",
    "    src = input()\n",
    "\n",
    "    print(\"What is the goal\")\n",
    "    goal = input()\n",
    "\n",
    "    print(f\"The path from {src} to {goal} found by DFS is: {list(dfs(dfs_list, 'a', 'g'))[0]}\")"
   ]
  },
  {
   "cell_type": "code",
   "execution_count": null,
   "metadata": {},
   "outputs": [],
   "source": []
  }
 ],
 "metadata": {
  "kernelspec": {
   "display_name": "Python 3",
   "language": "python",
   "name": "python3"
  },
  "language_info": {
   "codemirror_mode": {
    "name": "ipython",
    "version": 3
   },
   "file_extension": ".py",
   "mimetype": "text/x-python",
   "name": "python",
   "nbconvert_exporter": "python",
   "pygments_lexer": "ipython3",
   "version": "3.7.7"
  }
 },
 "nbformat": 4,
 "nbformat_minor": 4
}
